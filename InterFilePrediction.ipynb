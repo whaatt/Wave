{
 "cells": [
  {
   "cell_type": "code",
   "execution_count": null,
   "metadata": {
    "collapsed": true
   },
   "outputs": [],
   "source": [
    "batchSize = 50\n",
    "epochs = 20\n",
    "\n",
    "learningRate = 1e-3\n",
    "maxNumIntervals = 250\n",
    "recurrentType = 'LSTM'\n",
    "recurrentSize = 128\n",
    "denseSize = 128\n",
    "regression = False\n",
    "classBins = 3\n",
    "\n",
    "# Specify features as saved tags.\n",
    "featureTags = ['MFCC'] # ['MFCC', 'Pitches']\n",
    "logName = 'B50-E20-LR1E3-LSTM-R128-D128-Class-3-MFCC'"
   ]
  },
  {
   "cell_type": "code",
   "execution_count": null,
   "metadata": {
    "collapsed": true
   },
   "outputs": [],
   "source": [
    "# !rm -rf checkpoints/*\n",
    "# !rm -rf tensorboard/*\n",
    "# !rm *.log"
   ]
  },
  {
   "cell_type": "code",
   "execution_count": null,
   "metadata": {
    "collapsed": true
   },
   "outputs": [],
   "source": [
    "# Full ticker specifications required.\n",
    "tickers = ['seekingalpha-AON-2014-Q2',\n",
    "           'seekingalpha-MIXT-2017-Q1',\n",
    "           'seekingalpha-LTBR-2016-Q3',\n",
    "           'seekingalpha-FARM-2016-Q2',\n",
    "           'seekingalpha-XOXO-2016-Q1',\n",
    "           'seekingalpha-UFPI-2015-Q3',\n",
    "           'seekingalpha-ECYT-2015-Q1',\n",
    "           'seekingalpha-ARNA-2016-Q2',\n",
    "           'seekingalpha-JCAP-2016-Q2']"
   ]
  },
  {
   "cell_type": "code",
   "execution_count": null,
   "metadata": {
    "collapsed": true
   },
   "outputs": [],
   "source": [
    "import random\n",
    "random.shuffle(tickers)\n",
    "trainTickers = tickers[:5]\n",
    "valTickers = tickers[5:7]\n",
    "testTickers = tickers[7:]"
   ]
  },
  {
   "cell_type": "code",
   "execution_count": null,
   "metadata": {},
   "outputs": [],
   "source": [
    "from keras.layers.recurrent import LSTM, GRU\n",
    "from keras.layers import Input, Activation, Flatten, Dense, Masking\n",
    "from keras.callbacks import CSVLogger, ModelCheckpoint, TensorBoard\n",
    "from keras import regularizers, optimizers\n",
    "from keras.models import Model, load_model\n",
    "import numpy as np"
   ]
  },
  {
   "cell_type": "code",
   "execution_count": null,
   "metadata": {},
   "outputs": [],
   "source": [
    "from tensorflow.python.client import device_lib\n",
    "localDeviceProtos = device_lib.list_local_devices()\n",
    "[x.name for x in localDeviceProtos if x.device_type == 'GPU']"
   ]
  },
  {
   "cell_type": "code",
   "execution_count": null,
   "metadata": {},
   "outputs": [],
   "source": [
    "trainFeatures = np.concatenate([np.concatenate([np.load('features/' + tag + '-' + ticker + '.npy')\n",
    "    for ticker in trainTickers], axis = 0) for tag in featureTags], axis = 2) # Dope.\n",
    "valFeatures = np.concatenate([np.concatenate([np.load('features/' + tag + '-' + ticker + '.npy')\n",
    "    for ticker in valTickers], axis = 0) for tag in featureTags], axis = 2) # Dope.\n",
    "testFeatures = np.concatenate([np.concatenate([np.load('features/' + tag + '-' + ticker + '.npy')\n",
    "    for ticker in testTickers], axis = 0) for tag in featureTags], axis = 2) # Dope.\n",
    "\n",
    "# Shape sanity check.\n",
    "trainFeatures.shape, valFeatures.shape, testFeatures.shape"
   ]
  },
  {
   "cell_type": "code",
   "execution_count": null,
   "metadata": {
    "collapsed": true
   },
   "outputs": [],
   "source": [
    "trainIntervals = np.concatenate([np.load('features/intervals-' + ticker + '.npy') for ticker in trainTickers], axis = 0)\n",
    "valIntervals = np.concatenate([np.load('features/intervals-' + ticker + '.npy') for ticker in valTickers], axis = 0)\n",
    "testIntervals = np.concatenate([np.load('features/intervals-' + ticker + '.npy') for ticker in testTickers], axis = 0)\n",
    "\n",
    "trainIntervals[trainIntervals == 0] = 1\n",
    "valIntervals[valIntervals == 0] = 1\n",
    "testIntervals[testIntervals == 0] = 1"
   ]
  },
  {
   "cell_type": "code",
   "execution_count": null,
   "metadata": {
    "collapsed": true
   },
   "outputs": [],
   "source": [
    "trainTargetsInt = np.concatenate([np.load('targets/' + ticker + '.npy') for ticker in trainTickers], axis = 0)\n",
    "valTargetsInt = np.concatenate([np.load('targets/' + ticker + '.npy') for ticker in valTickers], axis = 0)\n",
    "testTargetsInt = np.concatenate([np.load('targets/' + ticker + '.npy') for ticker in testTickers], axis = 0)"
   ]
  },
  {
   "cell_type": "code",
   "execution_count": null,
   "metadata": {
    "collapsed": true
   },
   "outputs": [],
   "source": [
    "trainTargets = np.sum(trainTargetsInt, axis = 1) / trainIntervals\n",
    "valTargets = np.sum(valTargetsInt, axis = 1) / valIntervals\n",
    "testTargets = np.sum(testTargetsInt, axis = 1) / testIntervals"
   ]
  },
  {
   "cell_type": "code",
   "execution_count": null,
   "metadata": {},
   "outputs": [],
   "source": [
    "trainTargets.shape, valTargets.shape, testTargets.shape"
   ]
  },
  {
   "cell_type": "code",
   "execution_count": null,
   "metadata": {
    "collapsed": true
   },
   "outputs": [],
   "source": [
    "# Bucket train set confidence labels into even bins.\n",
    "# We will reuse these bucket stops for val and test.\n",
    "if not regression:\n",
    "    sortIndices = np.argsort(trainTargets)\n",
    "    trainFeatures = trainFeatures[sortIndices]\n",
    "    trainTargets = trainTargets[sortIndices]\n",
    "    binSize = int(len(trainTargets) / float(classBins))\n",
    "    buckets = np.zeros((classBins - 1))\n",
    "\n",
    "    # Assign class labels.\n",
    "    for i in range(classBins):\n",
    "        if i < classBins - 1:\n",
    "            lBound = trainTargets[(i + 1) * binSize - 1]\n",
    "            rBound = trainTargets[(i + 1) * binSize]\n",
    "            buckets[i] = (lBound + rBound) / 2.0\n",
    "            trainTargets[i * binSize:(i + 1) * binSize] = i\n",
    "        else: trainTargets[i * binSize:] = i"
   ]
  },
  {
   "cell_type": "code",
   "execution_count": null,
   "metadata": {
    "collapsed": true
   },
   "outputs": [],
   "source": [
    "# Do not clobber the original continuous targets during.\n",
    "finalValTargets = np.zeros_like(valTargets)\n",
    "finalTestTargets = np.zeros_like(testTargets)\n",
    "\n",
    "mBin = classBins - 1\n",
    "# Handle first and last edge cases in the procedure below.\n",
    "finalValTargets[valTargets < buckets[0]], finalTestTargets[testTargets < buckets[0]] = 0, 0\n",
    "finalValTargets[valTargets > buckets[-1]], finalTestTargets[testTargets > buckets[-1]] = mBin, mBin\n",
    "\n",
    "# Assign val and test values to bins.\n",
    "for i in range(len(buckets) - 1):\n",
    "    left, right = buckets[i], buckets[i + 1]\n",
    "    binSplitVal = np.where(np.logical_and(valTargets > left, valTargets < right))\n",
    "    binSplitTest = np.where(np.logical_and(testTargets > left, testTargets < right))\n",
    "    finalValTargets[binSplitVal], finalTestTargets[binSplitTest] = i + 1, i + 1\n",
    "\n",
    "valTargets = finalValTargets\n",
    "testTargets = finalTestTargets"
   ]
  },
  {
   "cell_type": "code",
   "execution_count": null,
   "metadata": {
    "collapsed": true
   },
   "outputs": [],
   "source": [
    "np.random.seed(224)\n",
    "trainIndices = list(range(len(trainTargets)))\n",
    "valIndices = list(range(len(valTargets)))\n",
    "testIndices = list(range(len(testTargets)))\n",
    "\n",
    "np.random.shuffle(trainIndices)\n",
    "np.random.shuffle(valIndices)\n",
    "np.random.shuffle(testIndices)\n",
    "\n",
    "trainFeatures = trainFeatures[trainIndices]\n",
    "valFeatures = valFeatures[valIndices]\n",
    "testFeatures = testFeatures[testIndices]\n",
    "\n",
    "trainTargets = trainTargets[trainIndices]\n",
    "valTargets = valTargets[valIndices]\n",
    "testTargets = testTargets[testIndices]"
   ]
  },
  {
   "cell_type": "code",
   "execution_count": null,
   "metadata": {
    "collapsed": true
   },
   "outputs": [],
   "source": [
    "if recurrentType == 'GRU': Recurrent = GRU\n",
    "elif recurrentType == 'LSTM': Recurrent = LSTM\n",
    "numBins = 1 if regression else classBins"
   ]
  },
  {
   "cell_type": "code",
   "execution_count": null,
   "metadata": {
    "collapsed": true
   },
   "outputs": [],
   "source": [
    "featureDim = trainFeatures.shape[2] # Shape has batch size, time steps, and then features.\n",
    "exInput = Input(shape = (maxNumIntervals, featureDim)) # Batch size is implicit.\n",
    "out = Masking()(exInput) # Ignore zeroed positions.\n",
    "out = Recurrent(recurrentSize)(out)\n",
    "out = Dense(denseSize)(out)\n",
    "out = Activation('relu')(out)\n",
    "out = Dense(numBins)(out)\n",
    "if regression: output = out\n",
    "else: output = Activation('softmax')(out)"
   ]
  },
  {
   "cell_type": "code",
   "execution_count": null,
   "metadata": {},
   "outputs": [],
   "source": [
    "model = Model(inputs = exInput, outputs = output)\n",
    "adam = optimizers.Adam(lr = learningRate)\n",
    "if regression: model.compile(optimizer = adam, loss = 'mean_squared_error')\n",
    "else: model.compile(optimizer = adam, loss = 'sparse_categorical_crossentropy', metrics = ['accuracy'])\n",
    "model.summary()"
   ]
  },
  {
   "cell_type": "code",
   "execution_count": null,
   "metadata": {},
   "outputs": [],
   "source": [
    "import h5py\n",
    "fullName = 'InterFile-' + logName\n",
    "logger = CSVLogger(fullName + '.log')\n",
    "checkpointer = ModelCheckpoint(filepath = 'checkpoints/weights' + fullName + '.hdf5', save_best_only = True, verbose = 1)\n",
    "tensorboarder = TensorBoard(log_dir = 'tensorboard/logs' + fullName)\n",
    "# model = load_model('checkpoints/weights.hdf5')\n",
    "model.fit(trainFeatures, trainTargets,\n",
    "          batch_size = batchSize, epochs = epochs,\n",
    "          validation_data = (valFeatures, valTargets),\n",
    "          callbacks = [logger, checkpointer, tensorboarder])"
   ]
  },
  {
   "cell_type": "code",
   "execution_count": null,
   "metadata": {
    "collapsed": true
   },
   "outputs": [],
   "source": [
    "if regression: predict = model.predict(valFeatures[:30])\n",
    "else: predict = np.argmax(model.predict(valFeatures[:30]), axis = 1)\n",
    "predict"
   ]
  },
  {
   "cell_type": "code",
   "execution_count": null,
   "metadata": {
    "collapsed": true
   },
   "outputs": [],
   "source": [
    "valTargets[:30]"
   ]
  },
  {
   "cell_type": "code",
   "execution_count": null,
   "metadata": {
    "collapsed": true
   },
   "outputs": [],
   "source": [
    "if not regression: correct = np.sum(valTargets[:30] == predict)\n",
    "else: correct = None\n",
    "correct"
   ]
  },
  {
   "cell_type": "code",
   "execution_count": null,
   "metadata": {
    "collapsed": true
   },
   "outputs": [],
   "source": [
    "valTargets"
   ]
  }
 ],
 "metadata": {
  "kernelspec": {
   "display_name": "Python 2",
   "language": "python",
   "name": "python2"
  },
  "language_info": {
   "codemirror_mode": {
    "name": "ipython",
    "version": 2
   },
   "file_extension": ".py",
   "mimetype": "text/x-python",
   "name": "python",
   "nbconvert_exporter": "python",
   "pygments_lexer": "ipython2",
   "version": "2.7.12"
  }
 },
 "nbformat": 4,
 "nbformat_minor": 2
}
