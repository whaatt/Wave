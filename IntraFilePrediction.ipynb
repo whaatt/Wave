{
 "cells": [
  {
   "cell_type": "code",
   "execution_count": null,
   "metadata": {
    "collapsed": true
   },
   "outputs": [],
   "source": [
    "# Full ticker specification required.\n",
    "ticker = 'seekingalpha-XOXO-2016-Q1'\n",
    "batchSize = 50\n",
    "epochs = 20\n",
    "\n",
    "learningRate = 1e-3\n",
    "maxNumIntervals = 250\n",
    "recurrentType = 'LSTM'\n",
    "recurrentSize = 128\n",
    "denseSize = 128\n",
    "regression = False\n",
    "classBins = 3\n",
    "\n",
    "# Specify feature as saved tag.\n",
    "featureTags = ['MFCC', 'Pitches']\n",
    "logName = 'XOXO-B50-E20-LR1E3-LSTM-R128-D128-Class-3-MFCC-Pitches'"
   ]
  },
  {
   "cell_type": "code",
   "execution_count": null,
   "metadata": {
    "collapsed": true
   },
   "outputs": [],
   "source": [
    "# !rm -rf checkpoints/*\n",
    "# !rm -rf tensorboard/*\n",
    "# !rm *.log"
   ]
  },
  {
   "cell_type": "code",
   "execution_count": null,
   "metadata": {},
   "outputs": [],
   "source": [
    "from keras.layers.recurrent import LSTM, GRU\n",
    "from keras.layers import Input, Activation, Flatten, Dense, Masking\n",
    "from keras.callbacks import CSVLogger, ModelCheckpoint, TensorBoard\n",
    "from keras import regularizers, optimizers\n",
    "from keras.models import Model, load_model\n",
    "import numpy as np"
   ]
  },
  {
   "cell_type": "code",
   "execution_count": null,
   "metadata": {
    "collapsed": true
   },
   "outputs": [],
   "source": [
    "from tensorflow.python.client import device_lib\n",
    "localDeviceProtos = device_lib.list_local_devices()\n",
    "[x.name for x in localDeviceProtos if x.device_type == 'GPU']"
   ]
  },
  {
   "cell_type": "code",
   "execution_count": null,
   "metadata": {
    "collapsed": true
   },
   "outputs": [],
   "source": [
    "features = np.concatenate([np.load('features/' + tag + '-' + ticker + '.npy') for tag in featureTags], axis = 2)\n",
    "intervals = np.load('features/intervals-' + ticker + '.npy')\n",
    "intervals[intervals == 0] = 1 # Avoid divide by zero.\n",
    "targetsInt = np.load('targets/' + ticker + '.npy')\n",
    "targets = np.sum(targetsInt, axis = 1) / intervals\n",
    "\n",
    "# Shape sanity check.\n",
    "features.shape, targets.shape"
   ]
  },
  {
   "cell_type": "code",
   "execution_count": null,
   "metadata": {
    "collapsed": true
   },
   "outputs": [],
   "source": [
    "# Bucket confidence labels into even bins.\n",
    "if not regression:\n",
    "    sortIndices = np.argsort(targets)\n",
    "    features = features[sortIndices]\n",
    "    targets = targets[sortIndices] # Floats.\n",
    "    binSize = int(len(targets) / float(classBins))\n",
    "\n",
    "    # Assign class labels.\n",
    "    for i in range(classBins):\n",
    "        if i < classBins - 1:\n",
    "            targets[i * binSize:(i + 1) * binSize] = i\n",
    "        else: targets[i * binSize:] = i"
   ]
  },
  {
   "cell_type": "code",
   "execution_count": null,
   "metadata": {
    "collapsed": true
   },
   "outputs": [],
   "source": [
    "np.random.seed(224)\n",
    "indices = list(range(len(targets)))\n",
    "np.random.shuffle(indices)\n",
    "shuffledFeatures = features[indices]\n",
    "shuffledTargets = targets[indices]\n",
    "\n",
    "total = float(len(targets))\n",
    "trainBoundary = int(0.7 * total)\n",
    "valBoundary = trainBoundary + int(0.2 * total)\n",
    "\n",
    "trainFeatures = shuffledFeatures[:trainBoundary]\n",
    "trainTargets = shuffledTargets[:trainBoundary]\n",
    "valFeatures = shuffledFeatures[trainBoundary:valBoundary]\n",
    "valTargets = shuffledTargets[trainBoundary:valBoundary]\n",
    "testFeatures = shuffledFeatures[valBoundary:]\n",
    "testTargets = shuffledTargets[valBoundary:]"
   ]
  },
  {
   "cell_type": "code",
   "execution_count": null,
   "metadata": {
    "collapsed": true
   },
   "outputs": [],
   "source": [
    "if recurrentType == 'GRU': Recurrent = GRU\n",
    "elif recurrentType == 'LSTM': Recurrent = LSTM\n",
    "numBins = 1 if regression else classBins"
   ]
  },
  {
   "cell_type": "code",
   "execution_count": null,
   "metadata": {
    "collapsed": true
   },
   "outputs": [],
   "source": [
    "featureDim = trainFeatures.shape[2] # Shape has batch size, time steps, and then features.\n",
    "exInput = Input(shape = (maxNumIntervals, featureDim)) # Batch size is implicit.\n",
    "out = Masking()(exInput) # Ignore zeroed positions.\n",
    "out = Recurrent(recurrentSize)(out)\n",
    "out = Dense(denseSize)(out)\n",
    "out = Activation('relu')(out)\n",
    "out = Dense(numBins)(out)\n",
    "if regression: output = out\n",
    "else: output = Activation('softmax')(out)"
   ]
  },
  {
   "cell_type": "code",
   "execution_count": null,
   "metadata": {
    "collapsed": true
   },
   "outputs": [],
   "source": [
    "model = Model(inputs = exInput, outputs = output)\n",
    "adam = optimizers.Adam(lr = learningRate)\n",
    "if regression: model.compile(optimizer = adam, loss = 'mean_squared_error')\n",
    "else: model.compile(optimizer = adam, loss = 'sparse_categorical_crossentropy', metrics = ['accuracy'])\n",
    "model.summary()"
   ]
  },
  {
   "cell_type": "code",
   "execution_count": null,
   "metadata": {
    "collapsed": true
   },
   "outputs": [],
   "source": [
    "import h5py\n",
    "fullName = 'IntraFile-' + logName\n",
    "logger = CSVLogger(fullName + '.log')\n",
    "checkpointer = ModelCheckpoint(filepath = 'checkpoints/weights' + fullName + '.hdf5', save_best_only = True, verbose = 1)\n",
    "tensorboarder = TensorBoard(log_dir = 'tensorboard/logs' + fullName)\n",
    "# model = load_model('checkpoints/weights.hdf5')\n",
    "model.fit(trainFeatures, trainTargets,\n",
    "          batch_size = batchSize, epochs = epochs,\n",
    "          validation_data = (valFeatures, valTargets),\n",
    "          callbacks = [logger, checkpointer, tensorboarder])"
   ]
  },
  {
   "cell_type": "code",
   "execution_count": null,
   "metadata": {
    "collapsed": true
   },
   "outputs": [],
   "source": [
    "if regression: predict = model.predict(valFeatures[:30])\n",
    "else: predict = np.argmax(model.predict(valFeatures[:30]), axis = 1)\n",
    "predict"
   ]
  },
  {
   "cell_type": "code",
   "execution_count": null,
   "metadata": {
    "collapsed": true
   },
   "outputs": [],
   "source": [
    "valTargets[:30]"
   ]
  },
  {
   "cell_type": "code",
   "execution_count": null,
   "metadata": {
    "collapsed": true
   },
   "outputs": [],
   "source": [
    "if not regression: correct = np.sum(valTargets[:30] == predict)\n",
    "else: correct = None\n",
    "correct"
   ]
  }
 ],
 "metadata": {
  "kernelspec": {
   "display_name": "Python 2",
   "language": "python",
   "name": "python2"
  },
  "language_info": {
   "codemirror_mode": {
    "name": "ipython",
    "version": 2
   },
   "file_extension": ".py",
   "mimetype": "text/x-python",
   "name": "python",
   "nbconvert_exporter": "python",
   "pygments_lexer": "ipython2",
   "version": "2.7.12"
  }
 },
 "nbformat": 4,
 "nbformat_minor": 2
}
