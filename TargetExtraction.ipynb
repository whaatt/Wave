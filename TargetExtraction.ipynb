{
 "cells": [
  {
   "cell_type": "code",
   "execution_count": null,
   "metadata": {
    "collapsed": true
   },
   "outputs": [],
   "source": [
    "ticker = 'seekingalpha-JCAP-2016-Q2'\n",
    "interval = 0.1 # In seconds.\n",
    "maxNumIntervals = 250\n",
    "raterA = 'grid'\n",
    "raterB = None\n",
    "smoothFactor = 30000\n",
    "shiftAmount = 300"
   ]
  },
  {
   "cell_type": "code",
   "execution_count": null,
   "metadata": {
    "collapsed": true
   },
   "outputs": [],
   "source": [
    "import numpy as np\n",
    "intervalMS = interval * 1000\n",
    "lInterval = 0.001 # In seconds.\n",
    "intRatio = lInterval / interval\n",
    "hasRaterB = raterB is not None"
   ]
  },
  {
   "cell_type": "code",
   "execution_count": null,
   "metadata": {
    "collapsed": true
   },
   "outputs": [],
   "source": [
    "raterAFileName = 'data/labels/' + raterA + '-' + ticker + '.train.npy'\n",
    "raterALabels = np.load(raterAFileName)\n",
    "\n",
    "# Optional.\n",
    "if hasRaterB:\n",
    "    raterBFileName = 'data/labels/' + raterB + '-' + ticker + '.train.npy'\n",
    "    raterBLabels = np.load(raterBFileName)"
   ]
  },
  {
   "cell_type": "code",
   "execution_count": null,
   "metadata": {},
   "outputs": [],
   "source": [
    "# Shift labels by certain number of milliseconds.\n",
    "A = np.pad(raterALabels, (0, shiftAmount), mode = 'mean')[shiftAmount:]\n",
    "if hasRaterB: B = np.pad(raterBLabels, (0, shiftAmount), mode = 'mean')[shiftAmount:]\n",
    "else: B = []\n",
    "len(A), len(B)"
   ]
  },
  {
   "cell_type": "code",
   "execution_count": null,
   "metadata": {
    "collapsed": true
   },
   "outputs": [],
   "source": [
    "# Center and normalize labels.\n",
    "A = A - np.mean(A)\n",
    "A = A / np.std(A)\n",
    "\n",
    "# Optional.\n",
    "if hasRaterB:\n",
    "    B = B - np.mean(B)\n",
    "    B = B / np.std(B)"
   ]
  },
  {
   "cell_type": "code",
   "execution_count": null,
   "metadata": {
    "collapsed": true
   },
   "outputs": [],
   "source": [
    "import pandas\n",
    "EWMA = pandas.stats.moments.ewma\n",
    "\n",
    "# For smoother labels.\n",
    "def smoothWithEWMA(x, span = 15):\n",
    "    forward = EWMA(x, span = span)\n",
    "    backward = EWMA(x[::-1], span = span)\n",
    "    stack = np.vstack((forward, backward[::-1]))\n",
    "    return np.mean(stack, axis = 0)"
   ]
  },
  {
   "cell_type": "code",
   "execution_count": null,
   "metadata": {},
   "outputs": [],
   "source": [
    "import warnings\n",
    "# Since Pandas is being annoying about the EWMA function.\n",
    "warnings.simplefilter(action = 'ignore', category = FutureWarning)\n",
    "\n",
    "# Plot raw inter-rater agreement.\n",
    "from matplotlib import pyplot as plt\n",
    "plt.title('Raw Rater Agreement (SF = ' +\n",
    "          str(smoothFactor) + ', SH = ' +\n",
    "          str(shiftAmount) + ')')\n",
    "plt.xlabel('Time (milliseconds)')\n",
    "plt.ylabel('Normalized Confidence Score')\n",
    "if hasRaterB: plt.plot((A + B) / 2, 'g--')\n",
    "if hasRaterB: plt.plot(B)\n",
    "plt.plot(A)\n",
    "\n",
    "# Save for poster use instead of showing.\n",
    "if hasRaterB: plt.savefig('raters/' + ticker + '-' + raterA + '-' + raterB + '-raw.png', dpi = 200)\n",
    "plt.show()"
   ]
  },
  {
   "cell_type": "code",
   "execution_count": null,
   "metadata": {},
   "outputs": [],
   "source": [
    "# Smooth labels using forward-backward EWMA.\n",
    "if hasRaterB: B = smoothWithEWMA(B, smoothFactor)\n",
    "A = smoothWithEWMA(A, smoothFactor)\n",
    "\n",
    "# Plot inter-rater agreement.\n",
    "plt.title('Rater Agreement (SF = ' +\n",
    "          str(smoothFactor) + ', SH = ' +\n",
    "          str(shiftAmount) + ')')\n",
    "plt.xlabel('Time (milliseconds)')\n",
    "plt.ylabel('Normalized Confidence Score')\n",
    "if hasRaterB: plt.plot((A + B) / 2, 'g--')\n",
    "if hasRaterB: plt.plot(B)\n",
    "plt.plot(A)\n",
    "\n",
    "# Save for poster use instead of showing.\n",
    "if hasRaterB: plt.savefig('raters/' + ticker + '-' + raterA + '-' + raterB + '-smooth.png', dpi = 200)\n",
    "plt.show()"
   ]
  },
  {
   "cell_type": "code",
   "execution_count": null,
   "metadata": {
    "collapsed": true
   },
   "outputs": [],
   "source": [
    "condense = int(1 / intRatio)\n",
    "# Pad labels to condensation interval.\n",
    "A = np.pad(A, (0, condense - len(A) % condense), mode = 'mean')\n",
    "if hasRaterB: B = np.pad(B, (0, condense - len(B) % condense), mode = 'mean')"
   ]
  },
  {
   "cell_type": "code",
   "execution_count": null,
   "metadata": {},
   "outputs": [],
   "source": [
    "# Condense labels to mean of every N.\n",
    "# Subtract one because of weird MFCC extraction.\n",
    "A = np.mean(A.reshape(-1, condense), axis = 1)[:-1]\n",
    "if hasRaterB: B = np.mean(B.reshape(-1, condense), axis = 1)[:-1]\n",
    "len(A), len(B)"
   ]
  },
  {
   "cell_type": "code",
   "execution_count": null,
   "metadata": {},
   "outputs": [],
   "source": [
    "# Inter-rater reliability metric.\n",
    "if hasRaterB:\n",
    "    IRRAbsLoss = np.mean(np.abs(A - B))\n",
    "    IRRSqLoss = np.sqrt(np.mean((A - B) ** 2))\n",
    "else: IRRAbsLoss, IRRSqLoss = None, None\n",
    "IRRAbsLoss, IRRSqLoss"
   ]
  },
  {
   "cell_type": "code",
   "execution_count": null,
   "metadata": {
    "collapsed": true
   },
   "outputs": [],
   "source": [
    "if hasRaterB: rawTargets = (A + B) / 2\n",
    "else: rawTargets = A"
   ]
  },
  {
   "cell_type": "code",
   "execution_count": null,
   "metadata": {
    "collapsed": true
   },
   "outputs": [],
   "source": [
    "splitIndices = np.load('scratch/splits-' + ticker + '.npy')\n",
    "targets = np.zeros((len(splitIndices) + 1, maxNumIntervals))\n",
    "targetsList = np.split(rawTargets, splitIndices)\n",
    "for i in range(len(targetsList)):\n",
    "    sentTargets = targetsList[i]\n",
    "    intervals = min(sentTargets.shape[0], maxNumIntervals)\n",
    "    targets[i, :intervals] = sentTargets[:intervals]"
   ]
  },
  {
   "cell_type": "code",
   "execution_count": null,
   "metadata": {},
   "outputs": [],
   "source": [
    "# Sanity check.\n",
    "targets.shape"
   ]
  },
  {
   "cell_type": "code",
   "execution_count": null,
   "metadata": {
    "collapsed": true
   },
   "outputs": [],
   "source": [
    "np.save('targets/' + ticker, targets)"
   ]
  }
 ],
 "metadata": {
  "kernelspec": {
   "display_name": "Python 2",
   "language": "python",
   "name": "python2"
  },
  "language_info": {
   "codemirror_mode": {
    "name": "ipython",
    "version": 2
   },
   "file_extension": ".py",
   "mimetype": "text/x-python",
   "name": "python",
   "nbconvert_exporter": "python",
   "pygments_lexer": "ipython2",
   "version": "2.7.12"
  }
 },
 "nbformat": 4,
 "nbformat_minor": 2
}
